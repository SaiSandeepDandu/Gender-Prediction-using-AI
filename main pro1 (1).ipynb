{
 "cells": [
  {
   "cell_type": "code",
   "execution_count": 2,
   "metadata": {},
   "outputs": [
    {
     "name": "stderr",
     "output_type": "stream",
     "text": [
      "C:\\Users\\anuvarma\\Anaconda3\\lib\\site-packages\\h5py\\__init__.py:36: FutureWarning: Conversion of the second argument of issubdtype from `float` to `np.floating` is deprecated. In future, it will be treated as `np.float64 == np.dtype(float).type`.\n",
      "  from ._conv import register_converters as _register_converters\n",
      "Using TensorFlow backend.\n"
     ]
    }
   ],
   "source": [
    "import numpy as np\n",
    "import pandas as pd\n",
    "import keras"
   ]
  },
  {
   "cell_type": "code",
   "execution_count": 3,
   "metadata": {},
   "outputs": [],
   "source": [
    "from keras.models import Sequential\n",
    "from keras.layers import Dense,Conv2D,MaxPooling2D,Flatten"
   ]
  },
  {
   "cell_type": "code",
   "execution_count": 4,
   "metadata": {},
   "outputs": [],
   "source": [
    "from keras.preprocessing.image import ImageDataGenerator\n",
    "train_datagen=ImageDataGenerator(rescale=1./255,shear_range=0.2,zoom_range=0.2,horizontal_flip=True)"
   ]
  },
  {
   "cell_type": "code",
   "execution_count": 5,
   "metadata": {},
   "outputs": [
    {
     "name": "stdout",
     "output_type": "stream",
     "text": [
      "Found 2532 images belonging to 2 classes.\n"
     ]
    }
   ],
   "source": [
    "x_train=train_datagen.flow_from_directory(r\"C:\\Users\\anuvarma\\Desktop\\male-female\",target_size=(64,64),batch_size=32,class_mode='binary')"
   ]
  },
  {
   "cell_type": "code",
   "execution_count": 6,
   "metadata": {},
   "outputs": [
    {
     "data": {
      "text/plain": [
       "{'female': 0, 'male': 1}"
      ]
     },
     "execution_count": 6,
     "metadata": {},
     "output_type": "execute_result"
    }
   ],
   "source": [
    "x_train.class_indices"
   ]
  },
  {
   "cell_type": "code",
   "execution_count": 7,
   "metadata": {},
   "outputs": [],
   "source": [
    "cnn_model=Sequential()"
   ]
  },
  {
   "cell_type": "code",
   "execution_count": 8,
   "metadata": {},
   "outputs": [
    {
     "name": "stderr",
     "output_type": "stream",
     "text": [
      "C:\\Users\\anuvarma\\Anaconda3\\lib\\site-packages\\ipykernel_launcher.py:1: UserWarning: Update your `Conv2D` call to the Keras 2 API: `Conv2D(32, (3, 3), input_shape=(64, 64, 3..., activation=\"relu\")`\n",
      "  \"\"\"Entry point for launching an IPython kernel.\n"
     ]
    }
   ],
   "source": [
    "cnn_model.add(Conv2D(32,3,3,input_shape=(64,64,3),activation=\"relu\"))\n",
    "cnn_model.add(MaxPooling2D(pool_size=(2,2)))"
   ]
  },
  {
   "cell_type": "code",
   "execution_count": 9,
   "metadata": {},
   "outputs": [],
   "source": [
    "cnn_model.add(Flatten())"
   ]
  },
  {
   "cell_type": "code",
   "execution_count": 10,
   "metadata": {},
   "outputs": [],
   "source": [
    "cnn_model.add(Dense(100,activation='relu'))"
   ]
  },
  {
   "cell_type": "code",
   "execution_count": 11,
   "metadata": {},
   "outputs": [],
   "source": [
    "cnn_model.add(Dense(1,activation='sigmoid'))"
   ]
  },
  {
   "cell_type": "code",
   "execution_count": 12,
   "metadata": {},
   "outputs": [],
   "source": [
    "cnn_model.compile(optimizer='adam',loss='binary_crossentropy',metrics=['accuracy'])"
   ]
  },
  {
   "cell_type": "code",
   "execution_count": 13,
   "metadata": {
    "scrolled": false
   },
   "outputs": [
    {
     "name": "stderr",
     "output_type": "stream",
     "text": [
      "C:\\Users\\anuvarma\\Anaconda3\\lib\\site-packages\\ipykernel_launcher.py:1: UserWarning: The semantics of the Keras 2 argument `steps_per_epoch` is not the same as the Keras 1 argument `samples_per_epoch`. `steps_per_epoch` is the number of batches to draw from the generator at each epoch. Basically steps_per_epoch = samples_per_epoch/batch_size. Similarly `nb_val_samples`->`validation_steps` and `val_samples`->`steps` arguments have changed. Update your method calls accordingly.\n",
      "  \"\"\"Entry point for launching an IPython kernel.\n",
      "C:\\Users\\anuvarma\\Anaconda3\\lib\\site-packages\\ipykernel_launcher.py:1: UserWarning: Update your `fit_generator` call to the Keras 2 API: `fit_generator(<keras_pre..., epochs=61, steps_per_epoch=31, validation_steps=200)`\n",
      "  \"\"\"Entry point for launching an IPython kernel.\n"
     ]
    },
    {
     "name": "stdout",
     "output_type": "stream",
     "text": [
      "Epoch 1/61\n",
      "31/31 [==============================] - 33s 1s/step - loss: 0.6846 - acc: 0.6892\n",
      "Epoch 2/61\n",
      "31/31 [==============================] - 31s 989ms/step - loss: 0.3968 - acc: 0.8387\n",
      "Epoch 3/61\n",
      "31/31 [==============================] - 24s 767ms/step - loss: 0.3564 - acc: 0.8438\n",
      "Epoch 4/61\n",
      "31/31 [==============================] - 10s 327ms/step - loss: 0.2952 - acc: 0.8900\n",
      "Epoch 5/61\n",
      "31/31 [==============================] - 10s 329ms/step - loss: 0.2626 - acc: 0.8871\n",
      "Epoch 6/61\n",
      "31/31 [==============================] - 11s 339ms/step - loss: 0.2325 - acc: 0.9143\n",
      "Epoch 7/61\n",
      "31/31 [==============================] - 10s 331ms/step - loss: 0.2177 - acc: 0.9082\n",
      "Epoch 8/61\n",
      "31/31 [==============================] - 11s 359ms/step - loss: 0.2301 - acc: 0.9042\n",
      "Epoch 9/61\n",
      "31/31 [==============================] - 10s 330ms/step - loss: 0.1929 - acc: 0.9264\n",
      "Epoch 10/61\n",
      "31/31 [==============================] - 10s 332ms/step - loss: 0.2094 - acc: 0.9244\n",
      "Epoch 11/61\n",
      "31/31 [==============================] - 11s 358ms/step - loss: 0.2067 - acc: 0.9223\n",
      "Epoch 12/61\n",
      "31/31 [==============================] - 11s 357ms/step - loss: 0.1633 - acc: 0.9466\n",
      "Epoch 13/61\n",
      "31/31 [==============================] - 10s 330ms/step - loss: 0.1354 - acc: 0.9576\n",
      "Epoch 14/61\n",
      "31/31 [==============================] - 11s 340ms/step - loss: 0.1619 - acc: 0.9355\n",
      "Epoch 15/61\n",
      "31/31 [==============================] - 12s 376ms/step - loss: 0.1787 - acc: 0.9304\n",
      "Epoch 16/61\n",
      "31/31 [==============================] - 11s 366ms/step - loss: 0.1327 - acc: 0.9617\n",
      "Epoch 17/61\n",
      "31/31 [==============================] - 10s 338ms/step - loss: 0.1756 - acc: 0.9306\n",
      "Epoch 18/61\n",
      "31/31 [==============================] - 10s 338ms/step - loss: 0.1314 - acc: 0.9506\n",
      "Epoch 19/61\n",
      "31/31 [==============================] - 11s 348ms/step - loss: 0.1075 - acc: 0.9688\n",
      "Epoch 20/61\n",
      "31/31 [==============================] - 10s 332ms/step - loss: 0.1295 - acc: 0.9516\n",
      "Epoch 21/61\n",
      "31/31 [==============================] - 10s 333ms/step - loss: 0.1200 - acc: 0.9597\n",
      "Epoch 22/61\n",
      "31/31 [==============================] - 10s 317ms/step - loss: 0.1071 - acc: 0.9647\n",
      "Epoch 23/61\n",
      "31/31 [==============================] - 10s 307ms/step - loss: 0.1111 - acc: 0.9546\n",
      "Epoch 24/61\n",
      "31/31 [==============================] - 9s 288ms/step - loss: 0.0966 - acc: 0.9667\n",
      "Epoch 25/61\n",
      "31/31 [==============================] - 9s 290ms/step - loss: 0.1164 - acc: 0.9647\n",
      "Epoch 26/61\n",
      "31/31 [==============================] - 11s 358ms/step - loss: 0.1146 - acc: 0.9597\n",
      "Epoch 27/61\n",
      "31/31 [==============================] - 9s 296ms/step - loss: 0.0930 - acc: 0.9647\n",
      "Epoch 28/61\n",
      "31/31 [==============================] - 9s 295ms/step - loss: 0.0949 - acc: 0.9748\n",
      "Epoch 29/61\n",
      "31/31 [==============================] - 9s 291ms/step - loss: 0.0840 - acc: 0.9718\n",
      "Epoch 30/61\n",
      "31/31 [==============================] - 9s 289ms/step - loss: 0.0888 - acc: 0.9677\n",
      "Epoch 31/61\n",
      "31/31 [==============================] - 11s 346ms/step - loss: 0.1202 - acc: 0.9567\n",
      "Epoch 32/61\n",
      "31/31 [==============================] - 9s 292ms/step - loss: 0.0820 - acc: 0.9718\n",
      "Epoch 33/61\n",
      "31/31 [==============================] - 9s 297ms/step - loss: 0.0822 - acc: 0.9717\n",
      "Epoch 34/61\n",
      "31/31 [==============================] - 9s 291ms/step - loss: 0.0723 - acc: 0.9768\n",
      "Epoch 35/61\n",
      "31/31 [==============================] - 9s 298ms/step - loss: 0.0779 - acc: 0.9788\n",
      "Epoch 36/61\n",
      "31/31 [==============================] - 10s 322ms/step - loss: 0.0733 - acc: 0.9708\n",
      "Epoch 37/61\n",
      "31/31 [==============================] - 9s 296ms/step - loss: 0.0878 - acc: 0.9718\n",
      "Epoch 38/61\n",
      "31/31 [==============================] - 9s 291ms/step - loss: 0.1030 - acc: 0.9659\n",
      "Epoch 39/61\n",
      "31/31 [==============================] - 11s 347ms/step - loss: 0.1030 - acc: 0.9617\n",
      "Epoch 40/61\n",
      "31/31 [==============================] - 9s 305ms/step - loss: 0.0676 - acc: 0.9788\n",
      "Epoch 41/61\n",
      "31/31 [==============================] - 9s 284ms/step - loss: 0.0644 - acc: 0.9758\n",
      "Epoch 42/61\n",
      "31/31 [==============================] - 10s 308ms/step - loss: 0.0873 - acc: 0.9669\n",
      "Epoch 43/61\n",
      "31/31 [==============================] - 9s 292ms/step - loss: 0.0485 - acc: 0.9839\n",
      "Epoch 44/61\n",
      "31/31 [==============================] - 9s 296ms/step - loss: 0.0594 - acc: 0.9778\n",
      "Epoch 45/61\n",
      "31/31 [==============================] - 9s 306ms/step - loss: 0.0618 - acc: 0.9788\n",
      "Epoch 46/61\n",
      "31/31 [==============================] - 9s 289ms/step - loss: 0.0643 - acc: 0.9778\n",
      "Epoch 47/61\n",
      "31/31 [==============================] - 9s 294ms/step - loss: 0.0454 - acc: 0.9859\n",
      "Epoch 48/61\n",
      "31/31 [==============================] - 9s 286ms/step - loss: 0.0556 - acc: 0.9798\n",
      "Epoch 49/61\n",
      "31/31 [==============================] - 10s 335ms/step - loss: 0.0603 - acc: 0.9728\n",
      "Epoch 50/61\n",
      "31/31 [==============================] - 9s 294ms/step - loss: 0.0432 - acc: 0.9859\n",
      "Epoch 51/61\n",
      "31/31 [==============================] - 9s 306ms/step - loss: 0.0517 - acc: 0.9828\n",
      "Epoch 52/61\n",
      "31/31 [==============================] - 9s 288ms/step - loss: 0.0665 - acc: 0.9788\n",
      "Epoch 53/61\n",
      "31/31 [==============================] - 10s 337ms/step - loss: 0.0713 - acc: 0.9738\n",
      "Epoch 54/61\n",
      "31/31 [==============================] - 119s 4s/step - loss: 0.0700 - acc: 0.9748\n",
      "Epoch 55/61\n",
      "31/31 [==============================] - 18s 590ms/step - loss: 0.0582 - acc: 0.9748\n",
      "Epoch 56/61\n",
      "31/31 [==============================] - 17s 540ms/step - loss: 0.0519 - acc: 0.9829\n",
      "Epoch 57/61\n",
      "31/31 [==============================] - 19s 603ms/step - loss: 0.0570 - acc: 0.9828\n",
      "Epoch 58/61\n",
      "31/31 [==============================] - 10s 308ms/step - loss: 0.0615 - acc: 0.9818\n",
      "Epoch 59/61\n",
      "31/31 [==============================] - 10s 311ms/step - loss: 0.0419 - acc: 0.9919\n",
      "Epoch 60/61\n",
      "31/31 [==============================] - 10s 315ms/step - loss: 0.0568 - acc: 0.9758\n",
      "Epoch 61/61\n",
      "31/31 [==============================] - 9s 302ms/step - loss: 0.0544 - acc: 0.9829\n"
     ]
    },
    {
     "data": {
      "text/plain": [
       "<keras.callbacks.History at 0x39640b5e80>"
      ]
     },
     "execution_count": 13,
     "metadata": {},
     "output_type": "execute_result"
    }
   ],
   "source": [
    "cnn_model.fit_generator(x_train,samples_per_epoch=1000,epochs=61,nb_val_samples=200)"
   ]
  },
  {
   "cell_type": "code",
   "execution_count": 14,
   "metadata": {},
   "outputs": [],
   "source": [
    "cnn_model.save(\"male-female1.h5\")\n"
   ]
  },
  {
   "cell_type": "code",
   "execution_count": 3,
   "metadata": {},
   "outputs": [],
   "source": []
  },
  {
   "cell_type": "code",
   "execution_count": null,
   "metadata": {},
   "outputs": [],
   "source": []
  }
 ],
 "metadata": {
  "kernelspec": {
   "display_name": "Python 3",
   "language": "python",
   "name": "python3"
  },
  "language_info": {
   "codemirror_mode": {
    "name": "ipython",
    "version": 3
   },
   "file_extension": ".py",
   "mimetype": "text/x-python",
   "name": "python",
   "nbconvert_exporter": "python",
   "pygments_lexer": "ipython3",
   "version": "3.6.5"
  }
 },
 "nbformat": 4,
 "nbformat_minor": 2
}
